{
 "cells": [
  {
   "cell_type": "code",
   "execution_count": 2,
   "id": "b0941d52",
   "metadata": {},
   "outputs": [
    {
     "name": "stdout",
     "output_type": "stream",
     "text": [
      "Arquivo Ana Carolina Bressan da Silva.xlsx criado para o advogado Ana Carolina Bressan da Silva\n",
      "Arquivo Bruno Gonçalves Barrios.xlsx criado para o advogado Bruno Gonçalves Barrios\n",
      "Arquivo Danielle Lais da Silva Lutkemeyer.xlsx criado para o advogado Danielle Lais da Silva Lutkemeyer\n",
      "Arquivo Darlei Jacoby Kayser.xlsx criado para o advogado Darlei Jacoby Kayser\n",
      "Arquivo Erick Damin Bitencourt.xlsx criado para o advogado Erick Damin Bitencourt\n",
      "Arquivo Felipe Machado da Luz.xlsx criado para o advogado Felipe Machado da Luz\n",
      "Arquivo Gustavo Araujo Tavares.xlsx criado para o advogado Gustavo Araujo Tavares\n",
      "Arquivo João Lucas Martins Falcão.xlsx criado para o advogado João Lucas Martins Falcão\n",
      "Arquivo Matheus Cezar Dias.xlsx criado para o advogado Matheus Cezar Dias\n",
      "Arquivo Rafaella Rodrigues dos Santos Marques.xlsx criado para o advogado Rafaella Rodrigues dos Santos Marques\n",
      "Arquivo Sarah Raquel Lopes Gonçalves.xlsx criado para o advogado Sarah Raquel Lopes Gonçalves\n",
      "Processo concluído.\n"
     ]
    }
   ],
   "source": [
    "import pandas as pd\n",
    "\n",
    "# Ler o arquivo Excel\n",
    "dados = pd.read_excel(\"Smart Report - WF 22_07.xlsx\")\n",
    "\n",
    "# Dividir o DataFrame com base na coluna 'Advogado interno'\n",
    "grupos = dados.groupby('Advogado interno')\n",
    "\n",
    "# Iterar sobre os grupos e criar arquivos Excel para cada advogado\n",
    "for advogado, grupo in grupos:\n",
    "    # Criar um arquivo Excel com o nome do advogado\n",
    "    nome_arquivo = f'{advogado}.xlsx'\n",
    "    \n",
    "    # Salvar o grupo do advogado no arquivo Excel\n",
    "    grupo.to_excel(nome_arquivo, index=False)\n",
    "\n",
    "    print(f\"Arquivo {nome_arquivo} criado para o advogado {advogado}\")\n",
    "\n",
    "print(\"Processo concluído.\")"
   ]
  },
  {
   "cell_type": "code",
   "execution_count": null,
   "id": "5a2c38b4-dcd9-48da-8e18-129a7af23344",
   "metadata": {},
   "outputs": [],
   "source": []
  }
 ],
 "metadata": {
  "kernelspec": {
   "display_name": "Python 3 (ipykernel)",
   "language": "python",
   "name": "python3"
  },
  "language_info": {
   "codemirror_mode": {
    "name": "ipython",
    "version": 3
   },
   "file_extension": ".py",
   "mimetype": "text/x-python",
   "name": "python",
   "nbconvert_exporter": "python",
   "pygments_lexer": "ipython3",
   "version": "3.11.7"
  }
 },
 "nbformat": 4,
 "nbformat_minor": 5
}
